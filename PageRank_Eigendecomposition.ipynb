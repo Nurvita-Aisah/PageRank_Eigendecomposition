{
 "cells": [
  {
   "cell_type": "markdown",
   "metadata": {},
   "source": [
    "# 1. Introduction\n",
    "1.1. Name: Nurvita Aisah\n",
    "\n",
    "1.2. Batch: FTDS 007"
   ]
  },
  {
   "cell_type": "markdown",
   "metadata": {},
   "source": [
    "# 2.Problem\n",
    "On search engine algorithm, Google implements Page Rank algorithm to determine the most important web page based on search keywords. As a result, Google is able to see how many connections are between web pages. This algorithm is frequently used by Social Scientists for Social Network Analysis.\n",
    "\n",
    "  For instance, based on a search keyword, a web page group has a web connection as follows:\n",
    "<p align=\"center\"><img src=\"https://www.intmath.com/matrices-determinants/svg/svgphp-applications-eigenvalues-eigenvectors-8-s0.svg\"></img></p>\n",
    "\n",
    "  Based on a web page group above, which is the most important webpage?\n",
    "\n"
   ]
  },
  {
   "cell_type": "markdown",
   "metadata": {},
   "source": [
    "# 3. Libraries"
   ]
  },
  {
   "cell_type": "markdown",
   "metadata": {},
   "source": [
    "Used libraries"
   ]
  },
  {
   "cell_type": "code",
   "execution_count": 21,
   "metadata": {},
   "outputs": [],
   "source": [
    "import numpy as np\n",
    "from numpy.linalg import eig"
   ]
  },
  {
   "cell_type": "markdown",
   "metadata": {},
   "source": [
    "# 4. Solution  \n",
    "  **Hint**:\n",
    "  - To solve the problem, use Eigendecomposition concept.\n",
    "  - The most important web page is the web page that has the highest eigenvalue.\n",
    "  - To determine Page Rank value, use an eigenvector which has $\\lambda$ positive and real. (Sometime <img src=\"https://latex.codecogs.com/png.latex?\\lambda=1\" title=\"\\lambda=1\" /> is applied for Page Rank case)\n",
    "  - Create a matrix <img src=\"https://latex.codecogs.com/png.latex?\\mathbf{A}\" title=\"\\mathbf{A}\" />, as follows:\n",
    " \n",
    "    For instance, we use web page 1’s case. At web page 1, there are 4 out connections from web page 1 (to web page 2, 4, 5, 6). Hence, the value of matrix’s elements are Sehingga nilai elemen matriks <img src=\"https://latex.codecogs.com/png.latex?A[1,2]=A[1,4]=A[1,5]=A[1,6]=\\frac{1}{4}\" title=\"A[1,2]=A[1,4]=A[1,5]=A[1,6]=\\frac{1}{4}\" />,  the element which has no web page connection will be valued as 0. \n",
    "\n"
   ]
  },
  {
   "cell_type": "markdown",
   "metadata": {},
   "source": [
    "**Breakdown the web page into a matrix**"
   ]
  },
  {
   "cell_type": "markdown",
   "metadata": {},
   "source": [
    "Page 1 = A[1,2]= A[1,4]= A[1,5]=A[1,6]= 1/4\n",
    "\n",
    "Page 2 = B[2,3]= B[2,4]= 1/2\n",
    "\n",
    "Page 3 = C[3,5]= 1\n",
    " \n",
    "Page 4 = D[4,5]= 1\n",
    "\n",
    "Page 5 = E[5,1]= E[5,4]= 1/2\n",
    "\n",
    "Page 6 = F[6,5]= 1"
   ]
  },
  {
   "cell_type": "markdown",
   "metadata": {},
   "source": [
    "**Matrix Page Rank**"
   ]
  },
  {
   "cell_type": "code",
   "execution_count": 19,
   "metadata": {},
   "outputs": [
    {
     "data": {
      "text/plain": [
       "array([[0.  , 0.  , 0.  , 0.  , 0.5 , 0.  ],\n",
       "       [0.25, 0.  , 0.  , 0.  , 0.  , 0.  ],\n",
       "       [0.  , 0.5 , 0.  , 0.  , 0.  , 0.  ],\n",
       "       [0.25, 0.5 , 0.  , 0.  , 0.5 , 0.  ],\n",
       "       [0.25, 0.  , 1.  , 1.  , 0.  , 1.  ],\n",
       "       [0.25, 0.  , 0.  , 0.  , 0.  , 0.  ]])"
      ]
     },
     "execution_count": 19,
     "metadata": {},
     "output_type": "execute_result"
    }
   ],
   "source": [
    "a = [[0,0,0,0,0.5,0],[0.25,0,0,0,0,0],[0,0.5,0,0,0,0],[0.25,0.5,0,0,0.5,0],[0.25,0,1,1,0,1],[0.25,0,0,0,0,0]]\n",
    "A = np.array(a)\n",
    "A"
   ]
  },
  {
   "cell_type": "markdown",
   "metadata": {},
   "source": [
    "**Seach the eigenvalue and eigenvector of web page**"
   ]
  },
  {
   "cell_type": "code",
   "execution_count": 23,
   "metadata": {},
   "outputs": [
    {
     "name": "stdout",
     "output_type": "stream",
     "text": [
      "Eigenvalue :  [ 1.00000000e+00+0.j         -1.39845075e-01+0.39240258j\n",
      " -1.39845075e-01-0.39240258j -7.20309850e-01+0.j\n",
      "  6.27089983e-17+0.j         -2.02451367e-17+0.j        ]\n",
      "Eigenvector:  [[ 3.77123617e-01+0.j         -5.77040252e-01+0.j\n",
      "  -5.77040252e-01-0.j          4.89508017e-01+0.j\n",
      "  -2.95787278e-16+0.j          3.83213810e-16+0.j        ]\n",
      " [ 9.42809042e-02+0.j          1.16252589e-01+0.32620252j\n",
      "   1.16252589e-01-0.32620252j -1.69894948e-01+0.j\n",
      "  -1.72542579e-16+0.j          0.00000000e+00+0.j        ]\n",
      " [ 4.71404521e-02+0.j          3.21965131e-01-0.2628717j\n",
      "   3.21965131e-01+0.2628717j   1.17931851e-01+0.j\n",
      "  -7.54422638e-01+0.j         -3.73042501e-03+0.j        ]\n",
      " [ 5.18544973e-01+0.j         -1.38822532e-01+0.06333082j\n",
      "  -1.38822532e-01-0.06333082j  4.37544920e-01+0.j\n",
      "   6.47645899e-01+0.j         -7.05234189e-01+0.j        ]\n",
      " [ 7.54247233e-01+0.j          1.61392475e-01-0.45286417j\n",
      "   1.61392475e-01+0.45286417j -7.05194893e-01+0.j\n",
      "   2.23498431e-16+0.j         -6.90384823e-16+0.j        ]\n",
      " [ 9.42809042e-02+0.j          1.16252589e-01+0.32620252j\n",
      "   1.16252589e-01-0.32620252j -1.69894948e-01+0.j\n",
      "   1.06776739e-01+0.j          7.08964614e-01+0.j        ]]\n"
     ]
    }
   ],
   "source": [
    "eigenvalue, eigenvector = eig(A)\n",
    "print(\"Eigenvalue : \", eigenvalue)\n",
    "print(\"Eigenvector: \", eigenvector)"
   ]
  },
  {
   "cell_type": "markdown",
   "metadata": {},
   "source": [
    "# 5. Conclusion\n",
    "Based on eigenvector and eigenvalue calculation, the highest eigenvalue is 6.27 and highest positive and real eigenvectors are 9.42809042e-02+0.j, 1.16252589e-01-0.32620252j, 1.06776739e-01+0.j belong to web page 5. Therefore, the most important web page is web page 5. \n"
   ]
  }
 ],
 "metadata": {
  "interpreter": {
   "hash": "8a48770bb3c76ada6ec5eec9b53a504a3323976b81e1d1b6d1fc077cb2f95093"
  },
  "kernelspec": {
   "display_name": "Python 3.10.1 64-bit",
   "language": "python",
   "name": "python3"
  },
  "language_info": {
   "codemirror_mode": {
    "name": "ipython",
    "version": 3
   },
   "file_extension": ".py",
   "mimetype": "text/x-python",
   "name": "python",
   "nbconvert_exporter": "python",
   "pygments_lexer": "ipython3",
   "version": "3.10.1"
  },
  "orig_nbformat": 4
 },
 "nbformat": 4,
 "nbformat_minor": 2
}
